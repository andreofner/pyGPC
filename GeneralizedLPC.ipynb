{
 "cells": [
  {
   "cell_type": "code",
   "execution_count": 10,
   "metadata": {
    "collapsed": true
   },
   "outputs": [],
   "source": [
    "\"\"\" Generalized predictive coding with 1D CNNs \"\"\"\n",
    "\"\"\" Linear Audio prediction \"\"\"\n",
    "\n",
    "import torch\n",
    "import torch.nn as nn\n",
    "import numpy as np\n",
    "import librosa as lbr\n",
    "import matplotlib.pyplot as plt\n",
    "import IPython.display as ipd\n",
    "from GeneralizedLPC import *\n",
    "import seaborn as sns\n",
    "sns.set_theme()\n",
    "\n",
    "# audio settings\n",
    "normalize_audio = True\n",
    "normalize_input = False\n",
    "\n",
    "# model settings\n",
    "kernel_size = 2\n",
    "use_gc = True\n",
    "EPOCHS = 1000\n",
    "LR = 0.01\n",
    "OPTIMISER = torch.optim.Adam\n",
    "LOSS = nn.L1Loss(reduction=\"mean\") #nn.MSELoss(reduction='sum')\n",
    "\n",
    "identity_output = False # setting this to True is crucial for reconstruction atm\n",
    "\n",
    "# generalized coordinates settings\n",
    "length = 1000\n",
    "GEN_COORDS = 5 # 5\n",
    "HIGHEST_COORD = 5 # 5\n",
    "input_units = 1; dt = 1; t = 0; b_size = 1"
   ]
  },
  {
   "cell_type": "code",
   "execution_count": 11,
   "outputs": [
    {
     "name": "stdout",
     "output_type": "stream",
     "text": [
      "MSE 4.849215838476084e-05 MSP 0.013730663806200027 SEPR 283.1522521972656 SEPR CF 133.74729601860005\n",
      "Signal to Error Power Ratio: Model mean  283.1522521972656  -  Closed form 133.74729601860005  Model max  283.1522521972656\n"
     ]
    }
   ],
   "source": [
    "filename = lbr.ex('libri2')\n",
    "audio, samplerate = lbr.load(filename, offset=15.0, duration=1)\n",
    "if normalize_audio: audio/=np.abs(audio).max()\n",
    "audio = audio[10000:]\n",
    "\n",
    "predictions_list, err_list, sigpow_list, SEPR_list, SEPR_CF_list = [], [], [], [], []\n",
    "\n",
    "for repeat in range(1):\n",
    "    for start in range(0, audio.shape[0], length):\n",
    "        end = start + length\n",
    "        audiosh = audio[start:end]\n",
    "\n",
    "        # normalize\n",
    "        if normalize_input: audiosh/=np.abs(audiosh).max()\n",
    "\n",
    "        # embed audio into generalized coordinates\n",
    "        Y0_gc, YGC_in, YGC_in_padded = embed_audio(audiosh, GEN_COORDS, dt, t, kernel_size, length, b_size, input_units, plot=False, use_gc=True)\n",
    "        inputs = [Y0_gc] + YGC_in_padded\n",
    "\n",
    "        # train\n",
    "        model = run(inputs, YGC_in, use_gc, kernel_size, optimiser=OPTIMISER, epochs=EPOCHS, lr=LR,\n",
    "                    identity_output=identity_output, loss_fn = LOSS)\n",
    "\n",
    "        # evaluate\n",
    "        predictions, err, sigpow, SEPR = evaluate(model, inputs, use_gc, Y0_gc, kernel_size, highest_order=HIGHEST_COORD, print_result=False, plot=False)\n",
    "\n",
    "        # closed form solution for comparison\n",
    "        SEPR_CF, xrec_CF, e_CF = closed_form(audiosh, LENGTH=length-kernel_size, KERNEL_SIZE=kernel_size, print_result=False, plot=False)\n",
    "\n",
    "        print(\"MSE\", err.item(), \"MSP\", sigpow.item(), \"SEPR\", SEPR.item(), \"SEPR CF\", SEPR_CF)\n",
    "\n",
    "        predictions_list.append(predictions); err_list.append(err.item())\n",
    "        sigpow_list.append(sigpow.item()); SEPR_list.append(SEPR.item()); SEPR_CF_list.append(SEPR_CF)\n",
    "        if start >= 0: break\n",
    "\n",
    "mean_SEPR = np.asarray(SEPR_list).mean()\n",
    "mean_SEPR_CF = np.asarray(SEPR_CF_list).mean()\n",
    "max_SEPR_CF = np.asarray(SEPR_list).max()\n",
    "print(\"Signal to Error Power Ratio: Model mean \", mean_SEPR, \" -  Closed form\", mean_SEPR_CF, \" Model max \", max_SEPR_CF)\n"
   ],
   "metadata": {
    "collapsed": false,
    "pycharm": {
     "name": "#%%\n"
    }
   }
  },
  {
   "cell_type": "code",
   "execution_count": 12,
   "outputs": [
    {
     "name": "stdout",
     "output_type": "stream",
     "text": [
      "B tensor([[[-0.4265,  0.4142]]])\n",
      "C tensor([[[2.3109]]])\n",
      "x torch.Size([1, 1, 995])\n",
      "x' torch.Size([1, 1, 995])\n"
     ]
    }
   ],
   "source": [
    "print(\"B\", model.B[0].weight.detach())\n",
    "print(\"C\", model.C[0].weight.detach())\n",
    "print(\"x\", model.x0.detach().shape)\n",
    "print(\"x'\", model.hiddens[0].detach().shape)"
   ],
   "metadata": {
    "collapsed": false,
    "pycharm": {
     "name": "#%%\n"
    }
   }
  },
  {
   "cell_type": "code",
   "execution_count": 13,
   "outputs": [],
   "source": [
    "\"\"\" Reconstruction with Generalized LPC\n",
    "Reconstruction = Previous reconstruction + first order prediction + prediction error\n",
    "todo use higher order predictions\n",
    "\"\"\"\n",
    "\n",
    "velocity_errors = [0 for _ in range(kernel_size-1)]\n",
    "inputs_ = inputs[0].clone().detach()\n",
    "\n",
    "for t in range(0, inputs[0].shape[-1]-kernel_size, 1):\n",
    "    input = [inputs[0][:,:,t:t+kernel_size]]\n",
    "    target = [inputs_[:,:,t+1:t+1+kernel_size]]\n",
    "\n",
    "    pred = model(input)\n",
    "    predicted_velocity = pred[1][0][0,0,:kernel_size].detach()\n",
    "    predicted_target = input[0][0,0] + predicted_velocity\n",
    "\n",
    "    velocity_error = (target[0][0,0]-input[0][0,0]) - predicted_velocity\n",
    "\n",
    "    reconstructed_velocity = predicted_velocity + velocity_error\n",
    "    reconstructed_target = input[0][0,0] + reconstructed_velocity\n",
    "\n",
    "    reconstruction_error = target[0][0,0] - reconstructed_target\n",
    "\n",
    "    velocity_errors.append(velocity_error[-1])\n",
    "\n",
    "    # current reconstruction turns into next input\n",
    "    inputs[0][:,:,t+kernel_size] == reconstructed_target[-1]\n",
    "\n",
    "    if False:\n",
    "        # the right most sample is the current prediction\n",
    "        plt.plot(predicted_velocity[:kernel_size], label=\"predicted velocity\")\n",
    "        plt.plot(inputs[0][0,0,t:t+kernel_size], label=\"input: past prediction\", linestyle=\"dotted\")\n",
    "        plt.plot(predicted_target, label=\"predicted_target\", linestyle=\"-\")\n",
    "        plt.plot(reconstructed_target, label=\"reconstructed_target\", linestyle=\"--\")\n",
    "        plt.plot(velocity_error, label=\"velocity error\", linestyle=\"--\")\n",
    "        plt.plot(reconstruction_error, label=\"reconstruction error\", linestyle=\"--\")\n",
    "        plt.plot(inputs[0][0,0,t+1:t+1+kernel_size], label=\"target\", linestyle=\"dotted\", linewidth=4)\n",
    "        plt.legend(); plt.show()\n",
    "\n",
    "if False:\n",
    "    plt.plot(velocity_errors, label=\"velocity prediction error\")\n",
    "    plt.legend(); plt.show()"
   ],
   "metadata": {
    "collapsed": false,
    "pycharm": {
     "name": "#%%\n"
    }
   }
  },
  {
   "cell_type": "code",
   "execution_count": 14,
   "outputs": [
    {
     "data": {
      "text/plain": "<Figure size 720x576 with 1 Axes>",
      "image/png": "[encoded data removed]"
     },
     "metadata": {},
     "output_type": "display_data"
    }
   ],
   "source": [
    "reconstruction = inputs[0][0,0,1:]\n",
    "target = inputs_[0,0,1:]\n",
    "reconstruction_error = target - reconstruction\n",
    "\n",
    "end = 30\n",
    "plt.figure(figsize=(10,8))\n",
    "plt.plot(target[:end], label=\"target\")\n",
    "plt.plot(reconstruction[:end], label=\"reconstruction\", linestyle=\"dotted\")\n",
    "plt.plot(reconstruction_error[:end], label=\"reconstruction_error\")\n",
    "plt.legend();\n"
   ],
   "metadata": {
    "collapsed": false,
    "pycharm": {
     "name": "#%%\n"
    }
   }
  },
  {
   "cell_type": "code",
   "execution_count": 15,
   "outputs": [
    {
     "name": "stdout",
     "output_type": "stream",
     "text": [
      "Model prediction\n"
     ]
    },
    {
     "data": {
      "text/plain": "<IPython.lib.display.Audio object>",
      "text/html": "\n                <audio  controls=\"controls\" >\n                    <source src=\"data:audio/wav;base64,UklGRugHAABXQVZFZm10IBAAAAABAAEAIlYAAESsAAACABAAZGF0YcQHAACBoMcFh8e8z+7Jkcnex6rKPNXq237VociGw9zGtsoozMfLKcfhxd/R5+mmBPwdCTMBRqJYRWg5cOlw9mkyXPpKsjiJJfoQmvmF4KzN2saryLvL680z0mbaHeWP8aP+SgcyCZEJKQ0BE3sYxxsZHT8eEiENJ9owfjkzPE866TcFNXgw/SdjGYkHPvr/8jfr7t/U1gLU2tcQ4hbwPfsgBQcTziEDLLo2rELFRw1EEjyQM54vIC/pKKwcShPDD0MSJxeMFkMPsQraCtMK8AhNCcwLBgpSAcv5G/07Cl8TKA1uBDINOyFkKjMl2Rw/G50cJhehCroDBgBV94Dti+wb8UT04/Jt8MDwXPQO+sUAaQXZBZgCnAAyBvsOPQ21A/3+Ef9f/ST8Sv9bBiwIe/279E/7BgJz+wv01vRO9wv0jetd5p7o/ee94Z7gMen08xX5bfWN8r/5mAO0BF7+Cflo9h/yaOr05zXptOIb15vXJOIk5zjl6uPe4V/guObf71DwgOkl4BjWO9Br0T7TSdATx0S/PMOLzuDSXdADzojNWs720JXSf9Jp0BXRstpD7yQKmSQcN2VBAkzVWRFmkGngYo9SBDy7JNoUJwko+JjiNNLjybvIns1/1s3fS+f76jvudvSh/LkBPAO1BGIJ0Q9KFB8VAxe0IH0uVTUmNlI3MTa6L5Eq/ib3H3gVxgjm+LXqm+SO4pPfUd7h45rsj/No+d0DEhS5Iy0tZzP5OL45RDaENaE1hy8iJS4ekRzLGyoWVwz/BxoNIRNUEBYJEwVMBcAGUQkLC3AKMggYBE8DRA+KIqor6yYUHyUbmh0JIyskJxq0B6r3W/Sc9jTzEesM5KLg3uWr8psAoQzEE6wSMRBpEGwRYxS8Fe4McQA0/Mf79/j08rjr8ukk8137XfmO9TT3ivnZ+lv9Uv5e+4b0yOmZ47npU/Ks8QHvpe6b7kH1/gSGD9IMSAFD9e7xyvZG9jPtgOSx32DaD9bq1/PfBuTN31HfJu0F/8oB9fbj7+7xbvBA6bflwuaF4rnUvcfEyBPS9dBRxUu/I8ZU04fcCN342bXWjs5ewxbABMeazwvUTNva7kwNHys+QnhUfmOSboR06HKrZiVS4To4ImgJnPL03BLGxLRNr0m4bMoN29DhAuYp8Ln+nApZEUMUEhXJElgPmw8tFQAbQR6DIUMo7i8gNec3Ojd/MgosnCNsFqgHmvpu7mPkit6Z3G7cz93i4i3ucPuqBw0WgyVJMCc1jTeFONY4ETdVMkQrlyTQIJ0f8h3GGvwVgQ/MC0UOFRG9DaEE0/oL9yz8rQNRBDX/Kv3RA04Ovhj6IeYmByXlIREiMyVPKXImjxY4Ap/3kvcP+pL3Qe1U4iri2uzY9rX7ngDmBjUJdQcHCI4MPA+OCmABIfwy/kkBnv7k90L06PeG/8UChf+w+p74xPj0/bQDggCw9Prsquu57NPuofHE82LzY+1D5+jqJ/TV+Mf4w/fs+eT+bf0O9OzuZO6h6oPnzOhD6VnnLOX14y7lmufy5t3kbeb77XHzju8c6Grm1ubc4irau9Ho0Y/WU9OWzKvOFtMC0xHVAduo3uzbeNEgxC6/FcUdzAzO+NJe5Kb97BX8LE9CGFK/W8tg6mHTX/9USj0OIIwHMffT7Ozj/9dPzDLHN8zE15PlmPJg+yr9Ofsr+7X/HQe8CvIHtwT5BZsLTxSOHdcmOTIePAdAyz46ODwttCPQG0IQ8QCj8KngQNYB1W/bOuVb7z/2Mvu5AlgOfxrOJW4wYjZMNYMwFCzNKMYngilKLA8sRSf0IaAeXBy6GzYb/hO2Bef3rvC78fP5VAMpCMwH6Qj5EX0iwDCSM1QqBR+7GU8ZZhl8FuoOLwXX/B32aPVY/FcBJf2K+OL7hQKvBTIGTwfNCVQK1AUrAoQEAANA+Q/0jvbK+Oj6UvpL9Kv0Rv0kA9EJaBJUDjv/D/VT86L02/J27Lnq/vBc9Qryue5S8+r9AAREA/j++vqf983uUeD93dnmROi35QfpPOtL7i7x7OtC6x/26fj+8onvW+mB31TXqNKA3Bfx2vp/93fx4+rd6Frmm9vp0lfQW8duvWC8w75gwHjCxMQnzLPZEOLp2wHNKsSqxunPNN9c9ZcOWCiiP21TH2kafP9/u3JBXLVDGC7bFSH8Celz24DN6sZLyAXPytru55PxPvtpABP9EfYG8YvwSfVk+vD/2wg2EkEdHC3zPClKYFSDVFVKRD7GMVMiuA+U+37q6N7P0+vJCMqM2PnsAvtVAdgJvxZ/IKAkfCYfKA4npSAsGaQZEx9fIsQkHSmxKwoswCqPKFUnliTgGk0O9gSF+rLrCOA+4Z3tDf1kDPkehi8xNuQz1TEvND43vjDWIKQRwAfW/L/v1+UH57XyKf3Q/ZL9wwI5BRAA/vwjAAoDBgPMAPX5YvNb9Kf5swG+DY0U/xDPDMwKjQfEA2T+FPjM9pn2o/KO8eHzavGX7XPyxvxJA98DRwHU+wn3Z/Tx8QTxOfI97yzsvu3P7O/rHPFu8PXrD/JS9xz0KvRQ8Ijk5uM96t7lbt+73rLfWOO254/o7ukU5yzfZd+W7Jj3NPbU6SfdGdWWzy7LK8ktyATIVsZMwx/HL8/3ztrFz78qwRzJm9Fr2dTj9/MKCA==\" type=\"audio/wav\" />\n                    Your browser does not support the audio element.\n                </audio>\n              "
     },
     "metadata": {},
     "output_type": "display_data"
    },
    {
     "name": "stdout",
     "output_type": "stream",
     "text": [
      "Model prediction error\n"
     ]
    },
    {
     "data": {
      "text/plain": "<IPython.lib.display.Audio object>",
      "text/html": "\n                <audio  controls=\"controls\" >\n                    <source src=\"data:audio/wav;base64,UklGRgwEAABXQVZFZm10IBAAAAABAAEAIlYAAESsAAACABAAZGF0YegDAAAAAAAAAYBYGIQA/g/t/XTqDg8RPvw2qwHO7fQCGBOgFtYirgo224nLJeOS9LIB6vog7yPysgIZBmgKpgucAiH6Hfqt/0kLxg889xHb991C+W8JigMa+k36bvro+/ANNxxtDYv2gfHS96D/VgFH+/bx++cN4F/uPgTbBnr5/fWz+awEWxP+EMb14ehh/uwR5ATF8r7qkea/64UErgTc7j3x7ANJ9MnqSQVmFUYLU/zx5A/h6wLmEJz2a+Tp3Fbm8gaRF1H7c+tP+CACwvVo8s4Jqxz8BU/aXM0y+toziBi6xJ29ggrFLyUV2umn6bQNuxvI8qzwtg8WDAbmPebg/kwSmQwb/Zv1/vVg+PYD1Q+xEpoBVuMQ6M8c5yRL+rTtrwGu/rjufeonC64yCQv3y2/vgyw+EvHpp/VVFGEdEQIl6vkIPR26+z3f+++cELAnsgyg4CfsARlbIz0JBvxdCIUT0fbv8yoflSQ15ufYEA38IbANUQ6NCaTq2PH1HgMphh2zFXUBU+/SAOQa9iqjFZDn9eZ/Glwq8haoC5YJrwVhDvMTgBfOBk/ondIS1xnsyQvQFbb3B+Gq6EkEzBPFGj0VXgOP4ZLkogtBGS/92+th6dXqLPEn/woLFRauDNP7nfjkCHcPSAQO9NXyAf/WCD76q9q823EDGwyv90788Qm29ULvYAHNCCUJixBNAxPoxu6FAzwAneuL8RsEPQbU77ThZ/E1CaMETflrBU8Hpu257MoHwgp/8MDhje0hB9MOh+7D1M/qFxb/FAH6Iu569I71E/2NBV8GfAjL9dHJMcz2C+supBRn9LbfXuPL/oojhynaBsjVtN8rDCcY2AhU/Mzjz9xo71f+kw0JIP0M4Pe497/x3vxnIqEYSOp+7L4DvA75DEr019Xy9r0jhhNS9B38kQOa/AcFXhGjFrwaeP211dnrDB5fE4EBzQNM6p3VngIsL/QvshRl6sHcMwq0JbEP1P17CT4HlPKx6lwNLiluBY7QkuImLoBCCAte5lkJ1xuY/zj0YBY9M1cY6N4n4JElkT1mC2vgrOczDYsqiiJYFWokiCN/+qDjFPo+FaUCS9aYxzXn4AIxAhH6Z/iw+ncEmBVrFq0GbQFH/136LgBtDwT+XeK5zcrWE/4hKc4b+fZA7n4CKxCFD34J5QuVBf/wK+M98OD9LPh46NDrHfgj+4oAvAX0/7gA5Q3KCJH9gf/y/Fr1Z/Qb/BP/Kfco6RHyav1N8l3wXgPVDMYC6/uH9hz6OP/m/1b36+t06SD05PsPAE0DXfQ74qbxHA8LGfULsO9p2tHpuxBBGrP9xt595KHxNfjUBW4U\" type=\"audio/wav\" />\n                    Your browser does not support the audio element.\n                </audio>\n              "
     },
     "metadata": {},
     "output_type": "display_data"
    },
    {
     "name": "stdout",
     "output_type": "stream",
     "text": [
      "Model reconstruction\n"
     ]
    },
    {
     "data": {
      "text/plain": "<IPython.lib.display.Audio object>",
      "text/html": "\n                <audio  controls=\"controls\" >\n                    <source src=\"data:audio/wav;base64,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\" type=\"audio/wav\" />\n                    Your browser does not support the audio element.\n                </audio>\n              "
     },
     "metadata": {},
     "output_type": "display_data"
    },
    {
     "name": "stdout",
     "output_type": "stream",
     "text": [
      "Closed form reconstruction\n"
     ]
    },
    {
     "data": {
      "text/plain": "<IPython.lib.display.Audio object>",
      "text/html": "\n                <audio  controls=\"controls\" >\n                    <source src=\"data:audio/wav;base64,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\" type=\"audio/wav\" />\n                    Your browser does not support the audio element.\n                </audio>\n              "
     },
     "metadata": {},
     "output_type": "display_data"
    }
   ],
   "source": [
    "normalize = True # un-normalized error signal has low volume\n",
    "\n",
    "length = 500\n",
    "errors = predictions[:length].detach().numpy()-np.array(Y0_gc[0,0,1:length+1])\n",
    "errors[:kernel_size] = 0.\n",
    "print(\"Model prediction\"); display(ipd.Audio(predictions.detach().numpy(), rate=samplerate, normalize=normalize))\n",
    "print(\"Model prediction error\"); display(ipd.Audio(errors, rate=samplerate, normalize=normalize))\n",
    "print(\"Model reconstruction\"); display(ipd.Audio(reconstruction, rate=samplerate, normalize=normalize))\n",
    "print(\"Closed form reconstruction\"); display(ipd.Audio(xrec_CF, rate=samplerate, normalize=normalize))"
   ],
   "metadata": {
    "collapsed": false,
    "pycharm": {
     "name": "#%%\n"
    }
   }
  },
  {
   "cell_type": "code",
   "execution_count": 149,
   "outputs": [],
   "source": [
    "# 10 inputs: (mean score)\n",
    "# without GC: Signal to Error Power Ratio: Model  2581.992422103882  -  Closed form 6852.318571301918\n",
    "# with GC 2: Signal to Error Power Ratio: Model  2583.291670885953  -  Closed form 6852.318571301918\n",
    "# with GC 3: Signal to Error Power Ratio: Model  1912.1574746370316  -  Closed form 6852.318571301918\n",
    "# with GC 5: Signal to Error Power Ratio: Model  1708.7486377195878  -  Closed form 6852.318571301918\n",
    "\n",
    "# Single input: (best score)\n",
    "# without GC: 444\n",
    "# with GC 2: 452\n",
    "# with GC 3: 351\n",
    "# with GC 5: 722\n",
    "# with GC 6: 593\n"
   ],
   "metadata": {
    "collapsed": false,
    "pycharm": {
     "name": "#%%\n"
    }
   }
  },
  {
   "cell_type": "code",
   "execution_count": 149,
   "outputs": [],
   "source": [],
   "metadata": {
    "collapsed": false,
    "pycharm": {
     "name": "#%%\n"
    }
   }
  },
  {
   "cell_type": "code",
   "execution_count": 149,
   "outputs": [],
   "source": [],
   "metadata": {
    "collapsed": false,
    "pycharm": {
     "name": "#%%\n"
    }
   }
  },
  {
   "cell_type": "code",
   "execution_count": null,
   "outputs": [],
   "source": [],
   "metadata": {
    "collapsed": false,
    "pycharm": {
     "name": "#%%\n"
    }
   }
  }
 ],
 "metadata": {
  "kernelspec": {
   "display_name": "Python 3",
   "language": "python",
   "name": "python3"
  },
  "language_info": {
   "codemirror_mode": {
    "name": "ipython",
    "version": 2
   },
   "file_extension": ".py",
   "mimetype": "text/x-python",
   "name": "python",
   "nbconvert_exporter": "python",
   "pygments_lexer": "ipython2",
   "version": "2.7.6"
  }
 },
 "nbformat": 4,
 "nbformat_minor": 0
}
